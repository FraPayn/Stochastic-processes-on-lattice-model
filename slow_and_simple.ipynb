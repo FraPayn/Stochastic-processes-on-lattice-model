{
 "cells": [
  {
   "cell_type": "markdown",
   "metadata": {},
   "source": [
    "# First Assignement\n",
    "\n",
    "Write a function \n",
    "\n",
    "```\n",
    "using Random\n",
    "include(\"lattice.jl\")\n",
    "\n",
    "function mcmc(x::Lattice,niter::Int, β::Float64, h::Vector{Float64})\n",
    "    n = prod(x.dims)\n",
    "    spin = rand((-1,1),n)\n",
    "    res = Matrix{Int}(undef,n,niter)\n",
    "    for t in 1:niter\n",
    "        one_mc_sweep!(x,spin,β,h) # make n mcmc updates\n",
    "        println(t,\" \",sum(spin)/n)\n",
    "        for i in x.site\n",
    "            res[i,t] = spin[i]            \n",
    "        end\n",
    "    end\n",
    "    res\n",
    "end\n",
    "```\n",
    "To try if the algorithm is actually working, define a (30,30) lattice, β=0.5,\n",
    "niter=1000; After 500 mc steps the magnetization should fluctuate around m =\n",
    "0.91.\n",
    "\n",
    "Hint: write a function energy that given the `struct Lattice`  and the `spin`\n",
    "and the `h` vector, it computes the energy. Then the update scheme will be\n",
    "\n",
    "1. Compute the energy of the current spin configuration\n",
    "\n",
    "$$\n",
    "    H = -\\sum_{i=1}^N  s_i\\left(\\frac{1}{2}\\sum_{j\\in \\partial i} s_j + h_i\\right)\n",
    "$$\n",
    "\n",
    "2. Flip a randomly selected spin\n",
    "3. Recompute the energy of the new configuration\n",
    "4. If the energy decreases or if `rand() < exp(-βΔE)` accept the spin flip\n",
    "   otherwise flip it back to the original value `(note that ΔE := Enew - Eold)`\n",
    "\n"
   ]
  },
  {
   "cell_type": "markdown",
   "metadata": {},
   "source": []
  }
 ],
 "metadata": {
  "kernelspec": {
   "display_name": "Julia 1.8.2",
   "language": "julia",
   "name": "julia-1.8"
  },
  "language_info": {
   "file_extension": ".jl",
   "mimetype": "application/julia",
   "name": "julia",
   "version": "1.8.2"
  },
  "orig_nbformat": 2
 },
 "nbformat": 4,
 "nbformat_minor": 2
}
