{
 "cells": [
  {
   "cell_type": "markdown",
   "metadata": {},
   "source": [
    "# <center> Monte Carlo Markov Chain for d-dimensional Ising Models </center>\n",
    "\n",
    "## Assignment \\# 1\n",
    "We are going to construct a MCMC for an Ising model on a d-dimensional rectangular lattice with periodic boundary conditions. We will progress step-by-step. We first implement a *slow* version computing explicitely the energy of the Ising model with a function\n",
    "```\n",
    "energyslow(x::Lattice, h::Vector{Float64}, spin::Vector{Int})\n",
    "```\n",
    "The energy should return the value of the energy:\n",
    "$$\n",
    "H(\\vec s) =  -\\sum_{i=1}^N \\left( \\frac12 \\sum_{j\\in\\partial_i} s_j + h_i\\right)s_i\n",
    "$$\n",
    "where with the symbol $\\partial_i$ we indicate the 2d set of neighbors of site $i$.\n",
    "\n",
    "Defining `nsweep` a set of `N` elementary Monte Carlo steps (i.e. MC trials accepted or not), verify that the magnetization in a $(30\\times 30)$ lattice with $h_i=0$ (no external fields)\n",
    "$$\n",
    "M := \\frac1N \\sum_{i=1}^N s_i \n",
    "$$\n",
    "at inverse temperature $\\beta=0.5$ after ~ 500 sweeps, ends fluctuating around a value 0.911319377877496.\n",
    "\n",
    "In general we have that, from the exact Onsager solution valid at $d=2$ for h=0 \n",
    "\n",
    "$$\n",
    "M(\\beta) = \\left[ 1- \\left(\\frac{1}{\\sinh(2\\beta)}\\right)^4\\right]^{1/8}\\quad,\\quad \\beta > \\beta_c=\\frac {\\ln (1+\\sqrt{2})}{2}\n",
    "$$"
   ]
  },
  {
   "cell_type": "markdown",
   "metadata": {
    "collapsed": true
   },
   "source": [
    "## Assignment \\# 2\n",
    "\n",
    "Define a structure \n",
    "\n",
    "```\n",
    "struct Ising{T<:AbstractFloat,D} \n",
    "    N::Int               # number of spin\n",
    "    β::T                 # inverse temperature\n",
    "    Λ::Lattice{D}        # Lattice\n",
    "    spin::Vector{Int}    # spin config\n",
    "    h::Vector{T}         # external field\n",
    "    H::Vector{T}         # total field \n",
    "end\n",
    "```\n",
    "\n",
    "The total field `H[i]` is the local field acting on site `i` defined as:\n",
    "$$\n",
    "H_i = \\sum_{j\\in\\partial_i} s_j + h_i \\quad,\\quad i\\in 1,\\dots,N\n",
    "$$\n",
    "\n",
    "The local field `H[i]` is useful in that:\n",
    "1. we can see that if we flip spin `i` the energy variation is (show it!):\n",
    "$$\n",
    "\\Delta E = E(\\vec s_{-i}) - E(\\vec s)= 2 H_i s_i\n",
    "$$\n",
    "where $s_{-i}$ is a shorthand for the spin configuration $s_1,\\dots,-s_i,\\dots,s_N$\n",
    "2. The total energy can be written as (show it!):\n",
    "$$\n",
    "E = \\sum_{i=1}^N -\\frac12(H_i + h_i)s_i\n",
    "$$\n",
    "\n",
    "If  spin `i` is flipped (accepted change) the local field $H_j$ for $j\\in\\partial_i$ should be updated. How?\n",
    "\n",
    "Detailed assignement:\n",
    "\n",
    "\n",
    "* Write a constructor for `struct Ising` \n",
    "\n",
    "```\n",
    "Ising(I::NTuple{D,Int},h::Vector{T},β::T, x0::Vector{Int})\n",
    "```\n",
    "\n",
    "where I is a `NTuple` containing `(Lx,Ly,Lz,...)` the external field `h`, the inverse temperature  `β`, and the initial spin configuration `x0`.\n",
    "\n",
    "* Write a method \n",
    "\n",
    "```\n",
    "function onemcstep!(x::Ising, site::Int)\n",
    "```\n",
    "\n",
    "performing the *tentative*  update of spin `site` according to the Metropolis-Hasting rule\n",
    "\n",
    "* Write a method\n",
    "\n",
    "```\n",
    "function onemcsweep!(x::Ising)\n",
    "```\n",
    "\n",
    "which updates in a random order (use `randperm()` after a `using Random` statement) all spins"
   ]
  },
  {
   "cell_type": "markdown",
   "metadata": {},
   "source": [
    "## A short note about constructors in Julia\n",
    "\n",
    "Given a generic `struct T`, a default constructor is always defined:"
   ]
  },
  {
   "cell_type": "code",
   "execution_count": 1,
   "metadata": {},
   "outputs": [
    {
     "data": {
      "text/plain": [
       "(10, [1, 1, 1, 1, 1, 1, 1, 1, 1, 1  …  1, 1, 1, 1, 1, 1, 1, 1, 1, 1])"
      ]
     },
     "execution_count": 1,
     "metadata": {},
     "output_type": "execute_result"
    }
   ],
   "source": [
    "struct T\n",
    "    n::Int\n",
    "    v::Vector{Int}\n",
    "end\n",
    "\n",
    "x = T(10,ones(Int,30));\n",
    "x.n, x.v"
   ]
  },
  {
   "cell_type": "markdown",
   "metadata": {},
   "source": [
    "Given a generic `struct T`  we can always define a *custom* constructor for the struct as a method with the same name of the `struct` calling the default constructor"
   ]
  },
  {
   "cell_type": "code",
   "execution_count": 4,
   "metadata": {},
   "outputs": [
    {
     "data": {
      "text/plain": [
       "T(10, [1, 1, 1, 1, 1, 1, 1, 1, 1, 1])"
      ]
     },
     "execution_count": 4,
     "metadata": {},
     "output_type": "execute_result"
    }
   ],
   "source": [
    "function T(n::Int)\n",
    "    return T(n,ones(Int,n))\n",
    "end\n",
    "\n",
    "T(10)"
   ]
  },
  {
   "cell_type": "markdown",
   "metadata": {},
   "source": [
    "The *custom* external constructor `T` is typically used for two main reasons: \n",
    "\n",
    "1. To make sanity checks on the input members of the class (e.g. checking for coherent size of arrays, etc.) before instantiating the `struct`.\n",
    "\n",
    "2. To simplify the generation of complex `struct` where, for instance, only the knowledge of a part of the field is enough to generate the whole `struct`, as in the simple example above where the knowledge of the member `n` is used to generate the second member `v`.\n"
   ]
  }
 ],
 "metadata": {
  "@webio": {
   "lastCommId": null,
   "lastKernelId": null
  },
  "kernelspec": {
   "display_name": "Julia 1.5.2",
   "language": "julia",
   "name": "julia-1.5"
  },
  "language_info": {
   "file_extension": ".jl",
   "mimetype": "application/julia",
   "name": "julia",
   "version": "1.5.2"
  }
 },
 "nbformat": 4,
 "nbformat_minor": 2
}
