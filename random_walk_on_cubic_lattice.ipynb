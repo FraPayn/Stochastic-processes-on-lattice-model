{
 "cells": [
  {
   "cell_type": "markdown",
   "metadata": {},
   "source": [
    "# The random walk revisited\n",
    "\n",
    "We are going to analyze the random walk on a $d$-dimensional lattice in $d=1,2,3$ with periodic boundary conditions. To do so we will use a `struct Lattice` that generates neighbors for lattices in arbitrary dimensions, defined in the `lattice.jl` file."
   ]
  },
  {
   "cell_type": "code",
   "execution_count": 1,
   "metadata": {},
   "outputs": [],
   "source": [
    "using PyPlot, SpecialFunctions, Revise\n",
    "includet(\"lattice.jl\")"
   ]
  },
  {
   "cell_type": "markdown",
   "metadata": {},
   "source": [
    "Let's see an example for a 3-d cubic lattice of size $5\\times 5 \\times 5$"
   ]
  },
  {
   "cell_type": "code",
   "execution_count": null,
   "metadata": {},
   "outputs": [],
   "source": [
    "mydims = (5,5,5)\n",
    "L = Lattice(mydims) # note that I could have used Lattice(5,5,5)"
   ]
  },
  {
   "cell_type": "markdown",
   "metadata": {},
   "source": [
    "To figure out what is going on, let's print the `LinearIndex`, the `CartesianIndex` and the neighbors' list for each site of the lattice. Note that the functions `lin2cart` is defined in `lattice.jl`. Note also the idiomatic syntax for dispatching on a function of more than one input using the syntax `Ref` on the 2nd argument of the function `lin2cart`."
   ]
  },
  {
   "cell_type": "code",
   "execution_count": null,
   "metadata": {},
   "outputs": [],
   "source": [
    "[vec(L.site) lin2cart.(L.site, Ref(L.dims)) L.neig]"
   ]
  },
  {
   "cell_type": "markdown",
   "metadata": {},
   "source": [
    "## The Random Walk in arbitrary dimensions\n",
    "\n",
    "Now we define a method for doing the random-walk. By default we start in the lattice centre."
   ]
  },
  {
   "cell_type": "code",
   "execution_count": null,
   "metadata": {},
   "outputs": [],
   "source": [
    "function randomwalk(L::Lattice,nsteps::Int)\n",
    "    d = length(L.dims)\n",
    "    traj = zeros(Int, nsteps+1)\n",
    "    traj[1] = cart2lin(L.dims,L.dims .>> 1 .+ 1) #lattice centre initialization saved as first trajectory point / .>> = *0.5\n",
    "    for i in 2:nsteps+1\n",
    "        traj[i] = L.neig[traj[i-1]][rand(1:2d)]\n",
    "    end\n",
    "    traj\n",
    "end"
   ]
  },
  {
   "cell_type": "markdown",
   "metadata": {},
   "source": [
    "We generate 3 lattices di $d=1,2,3$ of size $10^6$, $1001\\times1001$, and $101\\times 101\\times 101$ respectively. Then we generate `nwalker=10^6` trajectories."
   ]
  },
  {
   "cell_type": "code",
   "execution_count": null,
   "metadata": {},
   "outputs": [],
   "source": [
    "L1 = Lattice(1_000_001) # 1D lattice   \n",
    "L2 = Lattice(1001,1001) # 2D lattice\n",
    "L3 = Lattice(101,101,101) # 3D ... smaller lattice because 1001,1001,1001 is too big\n",
    "nwalkers = 1_000_000\n",
    "titer = 300\n",
    "res1 = [randomwalk(L1,titer) for i in 1:nwalkers]; #diffusion in 1D\n",
    "res2 = [randomwalk(L2,titer) for i in 1:nwalkers]; #diffusion in 2D\n",
    "res3 = [randomwalk(L3,titer) for i in 1:nwalkers]; #diffusion in 3D"
   ]
  },
  {
   "cell_type": "markdown",
   "metadata": {},
   "source": [
    "Plot a trajectory..."
   ]
  },
  {
   "cell_type": "code",
   "execution_count": null,
   "metadata": {},
   "outputs": [],
   "source": [
    "idx_traj = 1\n",
    "idxx = [tup[1] for tup in lin2cart.(res2[idx_traj], Ref(L2.dims))]\n",
    "idxy = [tup[2] for tup in lin2cart.(res2[idx_traj], Ref(L2.dims))]\n",
    "plot(idxx, idxy)\n",
    "scatter(idxx[1], idxy[1], marker = \"s\", color = \"r\")\n",
    "scatter(idxx[end],  idxy[end], marker = \"o\", color = \"g\")\n",
    "xticks(collect(minimum(idxx):1:maximum(idxx)))\n",
    "yticks(collect(minimum(idxy):1:maximum(idxy)))\n",
    "grid(which= \"major\")\n",
    "xlabel(\"x-coordinate\")\n",
    "ylabel(\"y-coordinate\")\n"
   ]
  },
  {
   "cell_type": "markdown",
   "metadata": {},
   "source": [
    "We now define a function to compute the average euclidean distance from the starting point of our trajectory. Note that to translate LinearIndices into the Cartesian representation, we use the `lin2cart` method defined in the file `lattice.jl`."
   ]
  },
  {
   "cell_type": "code",
   "execution_count": null,
   "metadata": {},
   "outputs": [],
   "source": [
    "function trajdiffusion(vtraj::Vector{Vector{Int}}, L::Lattice)\n",
    "    ntraj = length(vtraj)\n",
    "    ave = zeros(length(vtraj[1]))\n",
    "    va = similar(ave)\n",
    "    for t in 1:length(vtraj[1])\n",
    "        media = 0.0\n",
    "        mom2 = 0.0\n",
    "        for i in 1:ntraj\n",
    "            p0 = lin2cart(vtraj[i][1],L.dims)\n",
    "            pt = lin2cart(vtraj[i][t],L.dims)\n",
    "            dt = sqrt(sum((p0 .- pt).^2))\n",
    "            media += dt\n",
    "            mom2 += dt^2\n",
    "        end\n",
    "        ave[t] = media/ntraj\n",
    "        va[t] = (mom2-media*media/ntraj)/ntraj\n",
    "    end\n",
    "    ave,va\n",
    "end"
   ]
  },
  {
   "cell_type": "code",
   "execution_count": null,
   "metadata": {
    "tags": []
   },
   "outputs": [],
   "source": [
    "m1,e1 = trajdiffusion(res1,L1); # 2D statistics\n",
    "m2,e2 = trajdiffusion(res2,L2); # 2D statistics\n",
    "m3,e3 = trajdiffusion(res3,L3); # 3D statistics"
   ]
  },
  {
   "cell_type": "markdown",
   "metadata": {},
   "source": [
    "## <center> RMSD and average (Euclidean) distance </center> \n",
    "\n",
    "Let us compute \n",
    "\n",
    "$$\n",
    "RMSD(t) = \\sqrt{\\langle \\vec R(t)^2  \\rangle} \n",
    "$$\n",
    "\n",
    "and\n",
    "\n",
    "$$\n",
    "D(t)= \\langle |\\vec R(t)| \\rangle = \\langle \\sqrt{\\vec R(t) \\cdot \\vec R(t)} \\rangle\n",
    "$$\n",
    "\n",
    "and verify numerically the theoretical result for $D(t)$, and $RMSD(t)$."
   ]
  },
  {
   "cell_type": "markdown",
   "metadata": {},
   "source": []
  }
 ],
 "metadata": {
  "@webio": {
   "lastCommId": null,
   "lastKernelId": null
  },
  "kernelspec": {
   "display_name": "Julia 1.8.2",
   "language": "julia",
   "name": "julia-1.8"
  },
  "language_info": {
   "file_extension": ".jl",
   "mimetype": "application/julia",
   "name": "julia",
   "version": "1.8.2"
  }
 },
 "nbformat": 4,
 "nbformat_minor": 2
}
